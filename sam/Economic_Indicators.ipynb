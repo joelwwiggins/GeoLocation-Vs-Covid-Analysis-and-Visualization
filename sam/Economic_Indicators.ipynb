{
 "cells": [
  {
   "cell_type": "markdown",
   "id": "60d59afb",
   "metadata": {},
   "source": [
    "# Economic Indicators\n",
    "\n",
    "This code file is meant to capture the relevant economic indicators for plotting and analysis.\n",
    "\n",
    "Outstanding tasks include:\n",
    "* Add data for more economic indicators from the remaining Fed districts\n",
    "* Uncover how to set the major ticks 1 yr apart\n",
    "* Clean up the code\n",
    "* Perform time series lag correlation analysis"
   ]
  },
  {
   "cell_type": "code",
   "execution_count": 27,
   "id": "fd91607d",
   "metadata": {},
   "outputs": [],
   "source": [
    "import pandas as pd\n",
    "import matplotlib.dates as mdates\n",
    "import matplotlib.pyplot as plt\n",
    "from datetime import datetime"
   ]
  },
  {
   "cell_type": "code",
   "execution_count": 17,
   "id": "82009c90",
   "metadata": {},
   "outputs": [
    {
     "data": {
      "text/html": [
       "<div>\n",
       "<style scoped>\n",
       "    .dataframe tbody tr th:only-of-type {\n",
       "        vertical-align: middle;\n",
       "    }\n",
       "\n",
       "    .dataframe tbody tr th {\n",
       "        vertical-align: top;\n",
       "    }\n",
       "\n",
       "    .dataframe thead th {\n",
       "        text-align: right;\n",
       "    }\n",
       "</style>\n",
       "<table border=\"1\" class=\"dataframe\">\n",
       "  <thead>\n",
       "    <tr style=\"text-align: right;\">\n",
       "      <th></th>\n",
       "      <th>Empire_St</th>\n",
       "    </tr>\n",
       "    <tr>\n",
       "      <th>Date</th>\n",
       "      <th></th>\n",
       "    </tr>\n",
       "  </thead>\n",
       "  <tbody>\n",
       "    <tr>\n",
       "      <th>2001-07-31</th>\n",
       "      <td>-13.3</td>\n",
       "    </tr>\n",
       "    <tr>\n",
       "      <th>2001-08-31</th>\n",
       "      <td>-8.0</td>\n",
       "    </tr>\n",
       "    <tr>\n",
       "      <th>2001-09-30</th>\n",
       "      <td>-12.5</td>\n",
       "    </tr>\n",
       "    <tr>\n",
       "      <th>2001-10-31</th>\n",
       "      <td>-14.7</td>\n",
       "    </tr>\n",
       "    <tr>\n",
       "      <th>2001-11-30</th>\n",
       "      <td>-21.5</td>\n",
       "    </tr>\n",
       "    <tr>\n",
       "      <th>...</th>\n",
       "      <td>...</td>\n",
       "    </tr>\n",
       "    <tr>\n",
       "      <th>2021-04-30</th>\n",
       "      <td>26.3</td>\n",
       "    </tr>\n",
       "    <tr>\n",
       "      <th>2021-05-31</th>\n",
       "      <td>24.3</td>\n",
       "    </tr>\n",
       "    <tr>\n",
       "      <th>2021-06-30</th>\n",
       "      <td>17.4</td>\n",
       "    </tr>\n",
       "    <tr>\n",
       "      <th>2021-07-31</th>\n",
       "      <td>43.0</td>\n",
       "    </tr>\n",
       "    <tr>\n",
       "      <th>2021-08-31</th>\n",
       "      <td>18.3</td>\n",
       "    </tr>\n",
       "  </tbody>\n",
       "</table>\n",
       "<p>242 rows × 1 columns</p>\n",
       "</div>"
      ],
      "text/plain": [
       "            Empire_St\n",
       "Date                 \n",
       "2001-07-31      -13.3\n",
       "2001-08-31       -8.0\n",
       "2001-09-30      -12.5\n",
       "2001-10-31      -14.7\n",
       "2001-11-30      -21.5\n",
       "...               ...\n",
       "2021-04-30       26.3\n",
       "2021-05-31       24.3\n",
       "2021-06-30       17.4\n",
       "2021-07-31       43.0\n",
       "2021-08-31       18.3\n",
       "\n",
       "[242 rows x 1 columns]"
      ]
     },
     "execution_count": 17,
     "metadata": {},
     "output_type": "execute_result"
    }
   ],
   "source": [
    "empire_df = pd.read_csv('./Inputs/ESMS_SeasonallyAdjusted_Diffusion.csv')\n",
    "empire_clean_df = empire_df[['surveyDate','GACDISA']]\n",
    "empire_clean_df = empire_clean_df.rename(columns={\n",
    "    \"surveyDate\":\"Date\",\n",
    "    \"GACDISA\":\"Empire_St\"\n",
    "})\n",
    "empire_clean_df = empire_clean_df.set_index(['Date'])\n",
    "empire_clean_df"
   ]
  },
  {
   "cell_type": "code",
   "execution_count": 22,
   "id": "898993d3",
   "metadata": {},
   "outputs": [],
   "source": [
    "empire_clean_df.index = pd.to_datetime(empire_clean_df.index)"
   ]
  },
  {
   "cell_type": "code",
   "execution_count": 24,
   "id": "010ac6b0",
   "metadata": {},
   "outputs": [
    {
     "data": {
      "text/html": [
       "<div>\n",
       "<style scoped>\n",
       "    .dataframe tbody tr th:only-of-type {\n",
       "        vertical-align: middle;\n",
       "    }\n",
       "\n",
       "    .dataframe tbody tr th {\n",
       "        vertical-align: top;\n",
       "    }\n",
       "\n",
       "    .dataframe thead th {\n",
       "        text-align: right;\n",
       "    }\n",
       "</style>\n",
       "<table border=\"1\" class=\"dataframe\">\n",
       "  <thead>\n",
       "    <tr style=\"text-align: right;\">\n",
       "      <th></th>\n",
       "      <th>Empire_St</th>\n",
       "    </tr>\n",
       "    <tr>\n",
       "      <th>Date</th>\n",
       "      <th></th>\n",
       "    </tr>\n",
       "  </thead>\n",
       "  <tbody>\n",
       "    <tr>\n",
       "      <th>2001-07-31</th>\n",
       "      <td>-13.3</td>\n",
       "    </tr>\n",
       "    <tr>\n",
       "      <th>2001-08-31</th>\n",
       "      <td>-8.0</td>\n",
       "    </tr>\n",
       "    <tr>\n",
       "      <th>2001-09-30</th>\n",
       "      <td>-12.5</td>\n",
       "    </tr>\n",
       "    <tr>\n",
       "      <th>2001-10-31</th>\n",
       "      <td>-14.7</td>\n",
       "    </tr>\n",
       "    <tr>\n",
       "      <th>2001-11-30</th>\n",
       "      <td>-21.5</td>\n",
       "    </tr>\n",
       "    <tr>\n",
       "      <th>...</th>\n",
       "      <td>...</td>\n",
       "    </tr>\n",
       "    <tr>\n",
       "      <th>2021-04-30</th>\n",
       "      <td>26.3</td>\n",
       "    </tr>\n",
       "    <tr>\n",
       "      <th>2021-05-31</th>\n",
       "      <td>24.3</td>\n",
       "    </tr>\n",
       "    <tr>\n",
       "      <th>2021-06-30</th>\n",
       "      <td>17.4</td>\n",
       "    </tr>\n",
       "    <tr>\n",
       "      <th>2021-07-31</th>\n",
       "      <td>43.0</td>\n",
       "    </tr>\n",
       "    <tr>\n",
       "      <th>2021-08-31</th>\n",
       "      <td>18.3</td>\n",
       "    </tr>\n",
       "  </tbody>\n",
       "</table>\n",
       "<p>242 rows × 1 columns</p>\n",
       "</div>"
      ],
      "text/plain": [
       "            Empire_St\n",
       "Date                 \n",
       "2001-07-31      -13.3\n",
       "2001-08-31       -8.0\n",
       "2001-09-30      -12.5\n",
       "2001-10-31      -14.7\n",
       "2001-11-30      -21.5\n",
       "...               ...\n",
       "2021-04-30       26.3\n",
       "2021-05-31       24.3\n",
       "2021-06-30       17.4\n",
       "2021-07-31       43.0\n",
       "2021-08-31       18.3\n",
       "\n",
       "[242 rows x 1 columns]"
      ]
     },
     "execution_count": 24,
     "metadata": {},
     "output_type": "execute_result"
    }
   ],
   "source": [
    "empire_clean_df"
   ]
  },
  {
   "cell_type": "code",
   "execution_count": 47,
   "id": "f0b137a8",
   "metadata": {},
   "outputs": [
    {
     "data": {
      "image/png": "[encoded data removed]",
      "text/plain": [
       "<Figure size 1008x504 with 1 Axes>"
      ]
     },
     "metadata": {
      "needs_background": "dark"
     },
     "output_type": "display_data"
    },
    {
     "data": {
      "text/plain": [
       "<Figure size 432x288 with 0 Axes>"
      ]
     },
     "metadata": {},
     "output_type": "display_data"
    }
   ],
   "source": [
    "# Convert start and end date to datetime for plotting purposes\n",
    "# start_date_obj = datetime.strptime(empire_clean_df.index[0], '%Y-%m-%d')\n",
    "# end_date_obj = datetime.strptime(empire_clean_df.index[-1], '%Y-%m-%d')\n",
    "start_date_obj = empire_clean_df.index[0]\n",
    "end_date_obj = empire_clean_df.index[-1]\n",
    "\n",
    "# Plot tickers v performance\n",
    "# empire_clean_df.plot.line(figsize=(15,5),\n",
    "#                             title='Empire State Business Conditions',\n",
    "#                             ylabel='Business Conditions Index')\n",
    "# # ax.xaxis.set_major_locator(mdates.MonthLocator(interval=1))\n",
    "# # ax.xaxis.set_major_formatter(mdates.DateFormatter('%Y'))\n",
    "# plt.xlim(start_date_obj,end_date_obj)\n",
    "# # plt.plot_date(empire_clean_df.index, empire_clean_df.Empire_St, fmt='y')\n",
    "# plt.grid(color='grey',linestyle='--',linewidth=0.5,alpha=0.8)\n",
    "# plt.show()\n",
    "\n",
    "fig = plt.figure(figsize=(14,7))\n",
    "ax = fig.add_subplot()\n",
    "ax.spines['bottom'].set_color('white')\n",
    "ax.spines['left'].set_color('white')\n",
    "ax.set_xlabel('Years')\n",
    "ax.set_ylabel('Business Conditions Index')\n",
    "ax.xaxis.label.set_color('white')\n",
    "ax.yaxis.label.set_color('white')\n",
    "ax.tick_params(axis='x', colors='white')\n",
    "ax.tick_params(axis='y', colors='white')\n",
    "plt.title(\"Empire State Business Conditions\",color='w')\n",
    "plt.xlim(start_date_obj,end_date_obj)\n",
    "plt.plot(empire_clean_df)\n",
    "plt.grid()\n",
    "plt.show()\n",
    "plt.tight_layout()"
   ]
  },
  {
   "cell_type": "code",
   "execution_count": 31,
   "id": "736f6c7d",
   "metadata": {},
   "outputs": [
    {
     "data": {
      "text/plain": [
       "Timestamp('2001-07-31 00:00:00')"
      ]
     },
     "execution_count": 31,
     "metadata": {},
     "output_type": "execute_result"
    }
   ],
   "source": [
    "start_date_obj"
   ]
  },
  {
   "cell_type": "code",
   "execution_count": null,
   "id": "a905174c",
   "metadata": {},
   "outputs": [],
   "source": []
  }
 ],
 "metadata": {
  "kernelspec": {
   "display_name": "Python 3",
   "language": "python",
   "name": "python3"
  },
  "language_info": {
   "codemirror_mode": {
    "name": "ipython",
    "version": 3
   },
   "file_extension": ".py",
   "mimetype": "text/x-python",
   "name": "python",
   "nbconvert_exporter": "python",
   "pygments_lexer": "ipython3",
   "version": "3.8.8"
  }
 },
 "nbformat": 4,
 "nbformat_minor": 5
}
